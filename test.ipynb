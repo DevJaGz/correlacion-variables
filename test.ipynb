{
 "cells": [
  {
   "cell_type": "code",
   "execution_count": 1,
   "id": "b497fbf0-35b5-4483-9f48-69ab030afbd5",
   "metadata": {},
   "outputs": [
    {
     "name": "stdout",
     "output_type": "stream",
     "text": [
      "Package              Version\n",
      "-------------------- ---------\n",
      "anyio                3.5.0\n",
      "argon2-cffi          21.3.0\n",
      "argon2-cffi-bindings 21.2.0\n",
      "asttokens            2.0.5\n",
      "attrs                21.4.0\n",
      "Babel                2.9.1\n",
      "backcall             0.2.0\n",
      "black                22.1.0\n",
      "bleach               4.1.0\n",
      "certifi              2021.10.8\n",
      "cffi                 1.15.0\n",
      "charset-normalizer   2.0.12\n",
      "click                8.0.3\n",
      "colorama             0.4.4\n",
      "cycler               0.11.0\n",
      "debugpy              1.5.1\n",
      "decorator            5.1.1\n",
      "defusedxml           0.7.1\n",
      "entrypoints          0.4\n",
      "et-xmlfile           1.1.0\n",
      "executing            0.8.2\n",
      "fonttools            4.29.1\n",
      "idna                 3.3\n",
      "ipykernel            6.9.1\n",
      "ipython              8.0.1\n",
      "ipython-genutils     0.2.0\n",
      "jedi                 0.18.1\n",
      "Jinja2               3.0.3\n",
      "json5                0.9.6\n",
      "jsonschema           4.4.0\n",
      "jupyter-client       7.1.2\n",
      "jupyter-core         4.9.2\n",
      "jupyter-server       1.13.5\n",
      "jupyterlab           3.2.9\n",
      "jupyterlab-pygments  0.1.2\n",
      "jupyterlab-server    2.10.3\n",
      "kiwisolver           1.3.2\n",
      "MarkupSafe           2.0.1\n",
      "matplotlib           3.5.1\n",
      "matplotlib-inline    0.1.3\n",
      "mistune              0.8.4\n",
      "mypy-extensions      0.4.3\n",
      "nbclassic            0.3.5\n",
      "nbclient             0.5.11\n",
      "nbconvert            6.4.2\n",
      "nbformat             5.1.3\n",
      "nest-asyncio         1.5.4\n",
      "notebook             6.4.8\n",
      "numpy                1.22.2\n",
      "openpyxl             3.0.9\n",
      "packaging            21.3\n",
      "pandas               1.4.1\n",
      "pandocfilters        1.5.0\n",
      "parso                0.8.3\n",
      "pathspec             0.9.0\n",
      "pickleshare          0.7.5"
     ]
    },
    {
     "name": "stderr",
     "output_type": "stream",
     "text": [
      "WARNING: You are using pip version 21.2.3; however, version 22.0.3 is available.\n",
      "You should consider upgrading via the 'C:\\Users\\ASUS\\Desktop\\correlacion\\_env\\Scripts\\python.exe -m pip install --upgrade pip' command.\n"
     ]
    },
    {
     "name": "stdout",
     "output_type": "stream",
     "text": [
      "\n",
      "Pillow               9.0.1\n",
      "pip                  21.2.3\n",
      "platformdirs         2.5.0\n",
      "prometheus-client    0.13.1\n",
      "prompt-toolkit       3.0.28\n",
      "pure-eval            0.2.2\n",
      "pycparser            2.21\n",
      "Pygments             2.11.2\n",
      "pyparsing            3.0.7\n",
      "pyrsistent           0.18.1\n",
      "python-dateutil      2.8.2\n",
      "pytz                 2021.3\n",
      "pywin32              303\n",
      "pywinpty             1.1.6\n",
      "pyzmq                22.3.0\n",
      "requests             2.27.1\n",
      "scipy                1.8.0\n",
      "seaborn              0.11.2\n",
      "Send2Trash           1.8.0\n",
      "setuptools           57.4.0\n",
      "six                  1.16.0\n",
      "sniffio              1.2.0\n",
      "stack-data           0.2.0\n",
      "terminado            0.13.1\n",
      "testpath             0.5.0\n",
      "tomli                2.0.1\n",
      "tornado              6.1\n",
      "traitlets            5.1.1\n",
      "urllib3              1.26.8\n",
      "wcwidth              0.2.5\n",
      "webencodings         0.5.1\n",
      "websocket-client     1.2.3\n"
     ]
    }
   ],
   "source": [
    "!pip list"
   ]
  },
  {
   "cell_type": "code",
   "execution_count": null,
   "id": "1651b09a-e082-4b97-9854-89d21322f629",
   "metadata": {},
   "outputs": [],
   "source": []
  }
 ],
 "metadata": {
  "kernelspec": {
   "display_name": "dataScience",
   "language": "python",
   "name": "datascience"
  },
  "language_info": {
   "codemirror_mode": {
    "name": "ipython",
    "version": 3
   },
   "file_extension": ".py",
   "mimetype": "text/x-python",
   "name": "python",
   "nbconvert_exporter": "python",
   "pygments_lexer": "ipython3",
   "version": "3.10.0"
  }
 },
 "nbformat": 4,
 "nbformat_minor": 5
}
